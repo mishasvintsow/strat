{
 "cells": [
  {
   "cell_type": "code",
   "execution_count": 3,
   "metadata": {},
   "outputs": [],
   "source": [
    "import os, sys\n",
    "sys.path.insert(0, '/home/michael/projects/strat')\n",
    "import django\n",
    "os.environ.setdefault('DJANGO_SETTINGS_MODULE', 'strat.settings')\n",
    "os.environ[\"DJANGO_ALLOW_ASYNC_UNSAFE\"] = \"true\"\n",
    "django.setup()"
   ]
  },
  {
   "cell_type": "code",
   "execution_count": 17,
   "metadata": {},
   "outputs": [],
   "source": [
    "from main.models import Coin, Symbol, Candle, SymbolInfo\n",
    "import pandas as pd\n",
    "import numpy as np\n",
    "from django.utils import timezone\n",
    "from datetime import datetime, timedelta\n",
    "import const"
   ]
  },
  {
   "cell_type": "code",
   "execution_count": 12,
   "metadata": {},
   "outputs": [],
   "source": [
    "from connect import connect\n",
    "from load_data import get_symbols_info, get_coins_info, get_candles, update_klines_missed, update_klines"
   ]
  },
  {
   "cell_type": "code",
   "execution_count": 13,
   "metadata": {},
   "outputs": [],
   "source": [
    "client = connect()"
   ]
  },
  {
   "cell_type": "code",
   "execution_count": 14,
   "metadata": {},
   "outputs": [],
   "source": [
    "Candle.objects.all().delete()\n",
    "update_klines()"
   ]
  },
  {
   "cell_type": "code",
   "execution_count": 19,
   "metadata": {},
   "outputs": [],
   "source": [
    "fee = 4e-4\n",
    "def pnl(current_price, diff_price, init_volume):\n",
    "    return init_volume*(diff_price*(1-fee)-2*current_price*fee)"
   ]
  },
  {
   "cell_type": "code",
   "execution_count": 26,
   "metadata": {},
   "outputs": [],
   "source": [
    "for symbol in Symbol.objects.all():\n",
    "    klines = Candle.objects.filter(symbol = symbol)\n",
    "    data = pd.DataFrame(klines.values('open','high','low','close'))\n",
    "    data['body'] = np.abs(data['open']-data['close'])\n",
    "    data['candle'] = data['high']-data['low']\n",
    "    current_price = (klines.last().open+klines.last().close)/2\n",
    "    body_mean = data['body'].mean()\n",
    "    sinfo = SymbolInfo.objects.update_or_create(symbol=symbol, defaults={'pnl_10': pnl(current_price, body_mean, 10)/symbol.max_leverage,\n",
    "                                                                         'pnl_25': pnl(current_price, body_mean, 25)/symbol.max_leverage,\n",
    "                                                                         'pnl_50': pnl(current_price, body_mean, 50)/symbol.max_leverage\n",
    "                                                                        })"
   ]
  },
  {
   "cell_type": "code",
   "execution_count": 28,
   "metadata": {},
   "outputs": [
    {
     "data": {
      "text/plain": [
       "<QuerySet [('YFI', 1.94438588235294, 50), ('BTC', 1.53303009999999, 125), ('MKR', 0.519762583333333, 50), ('DEFI', 0.247965499999999, 50), ('ETH', 0.161518729166667, 100), ('AAVE', 0.0912057411764705, 25), ('BNB', 0.0367547607843138, 75), ('XMR', 0.0356001583333334, 50), ('ZEC', 0.0288385416666666, 50), ('COMP', 0.0272484083333333, 50), ('EGLD', 0.0228941083333334, 50), ('BCH', 0.0218712777777777, 75), ('SOL', 0.0203998333333334, 50), ('KSM', 0.019709825, 50), ('BTCDOM', 0.0193000000000038, 25), ('BNX', 0.0144911529411766, 50), ('TRB', 0.0137167, 25), ('DASH', 0.013711075, 50), ('LTC', 0.0126065111111111, 75), ('FTT', 0.0112047623529412, 25), '...(remaining elements truncated)...']>"
      ]
     },
     "execution_count": 28,
     "metadata": {},
     "output_type": "execute_result"
    }
   ],
   "source": [
    "SymbolInfo.objects.all().order_by('-pnl_10').values_list('symbol__base__coin', 'pnl_10', 'symbol__max_leverage')"
   ]
  },
  {
   "cell_type": "code",
   "execution_count": null,
   "metadata": {},
   "outputs": [],
   "source": []
  }
 ],
 "metadata": {
  "kernelspec": {
   "display_name": "stratenv",
   "language": "python",
   "name": "stratenv"
  },
  "language_info": {
   "codemirror_mode": {
    "name": "ipython",
    "version": 3
   },
   "file_extension": ".py",
   "mimetype": "text/x-python",
   "name": "python",
   "nbconvert_exporter": "python",
   "pygments_lexer": "ipython3",
   "version": "3.7.5"
  }
 },
 "nbformat": 4,
 "nbformat_minor": 4
}

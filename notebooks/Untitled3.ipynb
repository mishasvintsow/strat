{
 "cells": [
  {
   "cell_type": "code",
   "execution_count": 1,
   "metadata": {
    "pycharm": {
     "name": "#%%\n"
    }
   },
   "outputs": [
    {
     "ename": "ModuleNotFoundError",
     "evalue": "No module named 'django_crontabaccount'",
     "output_type": "error",
     "traceback": [
      "\u001B[0;31m---------------------------------------------------------------------------\u001B[0m",
      "\u001B[0;31mModuleNotFoundError\u001B[0m                       Traceback (most recent call last)",
      "\u001B[0;32m/tmp/ipykernel_12391/2142610941.py\u001B[0m in \u001B[0;36m<module>\u001B[0;34m\u001B[0m\n\u001B[1;32m      4\u001B[0m \u001B[0mos\u001B[0m\u001B[0;34m.\u001B[0m\u001B[0menviron\u001B[0m\u001B[0;34m.\u001B[0m\u001B[0msetdefault\u001B[0m\u001B[0;34m(\u001B[0m\u001B[0;34m'DJANGO_SETTINGS_MODULE'\u001B[0m\u001B[0;34m,\u001B[0m \u001B[0;34m'strat.settings'\u001B[0m\u001B[0;34m)\u001B[0m\u001B[0;34m\u001B[0m\u001B[0;34m\u001B[0m\u001B[0m\n\u001B[1;32m      5\u001B[0m \u001B[0mos\u001B[0m\u001B[0;34m.\u001B[0m\u001B[0menviron\u001B[0m\u001B[0;34m[\u001B[0m\u001B[0;34m\"DJANGO_ALLOW_ASYNC_UNSAFE\"\u001B[0m\u001B[0;34m]\u001B[0m \u001B[0;34m=\u001B[0m \u001B[0;34m\"true\"\u001B[0m\u001B[0;34m\u001B[0m\u001B[0;34m\u001B[0m\u001B[0m\n\u001B[0;32m----> 6\u001B[0;31m \u001B[0mdjango\u001B[0m\u001B[0;34m.\u001B[0m\u001B[0msetup\u001B[0m\u001B[0;34m(\u001B[0m\u001B[0;34m)\u001B[0m\u001B[0;34m\u001B[0m\u001B[0;34m\u001B[0m\u001B[0m\n\u001B[0m",
      "\u001B[0;32m~/projects/strat/menv/lib/python3.7/site-packages/django/__init__.py\u001B[0m in \u001B[0;36msetup\u001B[0;34m(set_prefix)\u001B[0m\n\u001B[1;32m     22\u001B[0m             \u001B[0;34m'/'\u001B[0m \u001B[0;32mif\u001B[0m \u001B[0msettings\u001B[0m\u001B[0;34m.\u001B[0m\u001B[0mFORCE_SCRIPT_NAME\u001B[0m \u001B[0;32mis\u001B[0m \u001B[0;32mNone\u001B[0m \u001B[0;32melse\u001B[0m \u001B[0msettings\u001B[0m\u001B[0;34m.\u001B[0m\u001B[0mFORCE_SCRIPT_NAME\u001B[0m\u001B[0;34m\u001B[0m\u001B[0;34m\u001B[0m\u001B[0m\n\u001B[1;32m     23\u001B[0m         )\n\u001B[0;32m---> 24\u001B[0;31m     \u001B[0mapps\u001B[0m\u001B[0;34m.\u001B[0m\u001B[0mpopulate\u001B[0m\u001B[0;34m(\u001B[0m\u001B[0msettings\u001B[0m\u001B[0;34m.\u001B[0m\u001B[0mINSTALLED_APPS\u001B[0m\u001B[0;34m)\u001B[0m\u001B[0;34m\u001B[0m\u001B[0;34m\u001B[0m\u001B[0m\n\u001B[0m",
      "\u001B[0;32m~/projects/strat/menv/lib/python3.7/site-packages/django/apps/registry.py\u001B[0m in \u001B[0;36mpopulate\u001B[0;34m(self, installed_apps)\u001B[0m\n\u001B[1;32m     89\u001B[0m                     \u001B[0mapp_config\u001B[0m \u001B[0;34m=\u001B[0m \u001B[0mentry\u001B[0m\u001B[0;34m\u001B[0m\u001B[0;34m\u001B[0m\u001B[0m\n\u001B[1;32m     90\u001B[0m                 \u001B[0;32melse\u001B[0m\u001B[0;34m:\u001B[0m\u001B[0;34m\u001B[0m\u001B[0;34m\u001B[0m\u001B[0m\n\u001B[0;32m---> 91\u001B[0;31m                     \u001B[0mapp_config\u001B[0m \u001B[0;34m=\u001B[0m \u001B[0mAppConfig\u001B[0m\u001B[0;34m.\u001B[0m\u001B[0mcreate\u001B[0m\u001B[0;34m(\u001B[0m\u001B[0mentry\u001B[0m\u001B[0;34m)\u001B[0m\u001B[0;34m\u001B[0m\u001B[0;34m\u001B[0m\u001B[0m\n\u001B[0m\u001B[1;32m     92\u001B[0m                 \u001B[0;32mif\u001B[0m \u001B[0mapp_config\u001B[0m\u001B[0;34m.\u001B[0m\u001B[0mlabel\u001B[0m \u001B[0;32min\u001B[0m \u001B[0mself\u001B[0m\u001B[0;34m.\u001B[0m\u001B[0mapp_configs\u001B[0m\u001B[0;34m:\u001B[0m\u001B[0;34m\u001B[0m\u001B[0;34m\u001B[0m\u001B[0m\n\u001B[1;32m     93\u001B[0m                     raise ImproperlyConfigured(\n",
      "\u001B[0;32m~/projects/strat/menv/lib/python3.7/site-packages/django/apps/config.py\u001B[0m in \u001B[0;36mcreate\u001B[0;34m(cls, entry)\u001B[0m\n\u001B[1;32m    222\u001B[0m             \u001B[0;32melse\u001B[0m\u001B[0;34m:\u001B[0m\u001B[0;34m\u001B[0m\u001B[0;34m\u001B[0m\u001B[0m\n\u001B[1;32m    223\u001B[0m                 \u001B[0;31m# Re-trigger the module import exception.\u001B[0m\u001B[0;34m\u001B[0m\u001B[0;34m\u001B[0m\u001B[0;34m\u001B[0m\u001B[0m\n\u001B[0;32m--> 224\u001B[0;31m                 \u001B[0mimport_module\u001B[0m\u001B[0;34m(\u001B[0m\u001B[0mentry\u001B[0m\u001B[0;34m)\u001B[0m\u001B[0;34m\u001B[0m\u001B[0;34m\u001B[0m\u001B[0m\n\u001B[0m\u001B[1;32m    225\u001B[0m \u001B[0;34m\u001B[0m\u001B[0m\n\u001B[1;32m    226\u001B[0m         \u001B[0;31m# Check for obvious errors. (This check prevents duck typing, but\u001B[0m\u001B[0;34m\u001B[0m\u001B[0;34m\u001B[0m\u001B[0;34m\u001B[0m\u001B[0m\n",
      "\u001B[0;32m/usr/lib/python3.7/importlib/__init__.py\u001B[0m in \u001B[0;36mimport_module\u001B[0;34m(name, package)\u001B[0m\n\u001B[1;32m    125\u001B[0m                 \u001B[0;32mbreak\u001B[0m\u001B[0;34m\u001B[0m\u001B[0;34m\u001B[0m\u001B[0m\n\u001B[1;32m    126\u001B[0m             \u001B[0mlevel\u001B[0m \u001B[0;34m+=\u001B[0m \u001B[0;36m1\u001B[0m\u001B[0;34m\u001B[0m\u001B[0;34m\u001B[0m\u001B[0m\n\u001B[0;32m--> 127\u001B[0;31m     \u001B[0;32mreturn\u001B[0m \u001B[0m_bootstrap\u001B[0m\u001B[0;34m.\u001B[0m\u001B[0m_gcd_import\u001B[0m\u001B[0;34m(\u001B[0m\u001B[0mname\u001B[0m\u001B[0;34m[\u001B[0m\u001B[0mlevel\u001B[0m\u001B[0;34m:\u001B[0m\u001B[0;34m]\u001B[0m\u001B[0;34m,\u001B[0m \u001B[0mpackage\u001B[0m\u001B[0;34m,\u001B[0m \u001B[0mlevel\u001B[0m\u001B[0;34m)\u001B[0m\u001B[0;34m\u001B[0m\u001B[0;34m\u001B[0m\u001B[0m\n\u001B[0m\u001B[1;32m    128\u001B[0m \u001B[0;34m\u001B[0m\u001B[0m\n\u001B[1;32m    129\u001B[0m \u001B[0;34m\u001B[0m\u001B[0m\n",
      "\u001B[0;32m/usr/lib/python3.7/importlib/_bootstrap.py\u001B[0m in \u001B[0;36m_gcd_import\u001B[0;34m(name, package, level)\u001B[0m\n",
      "\u001B[0;32m/usr/lib/python3.7/importlib/_bootstrap.py\u001B[0m in \u001B[0;36m_find_and_load\u001B[0;34m(name, import_)\u001B[0m\n",
      "\u001B[0;32m/usr/lib/python3.7/importlib/_bootstrap.py\u001B[0m in \u001B[0;36m_find_and_load_unlocked\u001B[0;34m(name, import_)\u001B[0m\n",
      "\u001B[0;31mModuleNotFoundError\u001B[0m: No module named 'django_crontabaccount'"
     ]
    }
   ],
   "source": [
    "import os, sys\n",
    "sys.path.insert(0, '/home/michael/projects/strat')\n",
    "import django\n",
    "os.environ.setdefault('DJANGO_SETTINGS_MODULE', 'strat.settings')\n",
    "os.environ[\"DJANGO_ALLOW_ASYNC_UNSAFE\"] = \"true\"\n",
    "django.setup()"
   ]
  },
  {
   "cell_type": "code",
   "execution_count": 17,
   "metadata": {
    "pycharm": {
     "name": "#%%\n"
    }
   },
   "outputs": [],
   "source": [
    "from main.models import Coin, Symbol, Candle, SymbolInfo\n",
    "import pandas as pd\n",
    "import numpy as np\n",
    "from django.utils import timezone\n",
    "from datetime import datetime, timedelta\n",
    "import const"
   ]
  },
  {
   "cell_type": "code",
   "execution_count": 12,
   "metadata": {
    "pycharm": {
     "name": "#%%\n"
    }
   },
   "outputs": [],
   "source": [
    "from connect import connect\n",
    "from load_data import get_symbols_info, get_coins_info, get_candles, update_klines_missed, update_klines"
   ]
  },
  {
   "cell_type": "code",
   "execution_count": 13,
   "metadata": {
    "pycharm": {
     "name": "#%%\n"
    }
   },
   "outputs": [],
   "source": [
    "client = connect()"
   ]
  },
  {
   "cell_type": "code",
   "execution_count": 14,
   "metadata": {
    "pycharm": {
     "name": "#%%\n"
    }
   },
   "outputs": [],
   "source": [
    "Candle.objects.all().delete()\n",
    "update_klines()"
   ]
  },
  {
   "cell_type": "code",
   "execution_count": 19,
   "metadata": {
    "pycharm": {
     "name": "#%%\n"
    }
   },
   "outputs": [],
   "source": [
    "fee = 4e-4\n",
    "def pnl(current_price, diff_price, init_volume):\n",
    "    return init_volume*(diff_price*(1-fee)-2*current_price*fee)"
   ]
  },
  {
   "cell_type": "code",
   "execution_count": 26,
   "metadata": {
    "pycharm": {
     "name": "#%%\n"
    }
   },
   "outputs": [],
   "source": [
    "for symbol in Symbol.objects.all():\n",
    "    klines = Candle.objects.filter(symbol = symbol)\n",
    "    data = pd.DataFrame(klines.values('open','high','low','close'))\n",
    "    data['body'] = np.abs(data['open']-data['close'])\n",
    "    data['candle'] = data['high']-data['low']\n",
    "    current_price = (klines.last().open+klines.last().close)/2\n",
    "    body_mean = data['body'].mean()\n",
    "    sinfo = SymbolInfo.objects.update_or_create(symbol=symbol, defaults={'pnl_10': pnl(current_price, body_mean, 10)/symbol.max_leverage,\n",
    "                                                                         'pnl_25': pnl(current_price, body_mean, 25)/symbol.max_leverage,\n",
    "                                                                         'pnl_50': pnl(current_price, body_mean, 50)/symbol.max_leverage\n",
    "                                                                        })"
   ]
  },
  {
   "cell_type": "code",
   "execution_count": 28,
   "metadata": {
    "pycharm": {
     "name": "#%%\n"
    }
   },
   "outputs": [
    {
     "data": {
      "text/plain": [
       "<QuerySet [('YFI', 1.94438588235294, 50), ('BTC', 1.53303009999999, 125), ('MKR', 0.519762583333333, 50), ('DEFI', 0.247965499999999, 50), ('ETH', 0.161518729166667, 100), ('AAVE', 0.0912057411764705, 25), ('BNB', 0.0367547607843138, 75), ('XMR', 0.0356001583333334, 50), ('ZEC', 0.0288385416666666, 50), ('COMP', 0.0272484083333333, 50), ('EGLD', 0.0228941083333334, 50), ('BCH', 0.0218712777777777, 75), ('SOL', 0.0203998333333334, 50), ('KSM', 0.019709825, 50), ('BTCDOM', 0.0193000000000038, 25), ('BNX', 0.0144911529411766, 50), ('TRB', 0.0137167, 25), ('DASH', 0.013711075, 50), ('LTC', 0.0126065111111111, 75), ('FTT', 0.0112047623529412, 25), '...(remaining elements truncated)...']>"
      ]
     },
     "execution_count": 28,
     "metadata": {},
     "output_type": "execute_result"
    }
   ],
   "source": [
    "SymbolInfo.objects.all().order_by('-pnl_10').values_list('symbol__base__coin', 'pnl_10', 'symbol__max_leverage')"
   ]
  },
  {
   "cell_type": "code",
   "execution_count": null,
   "metadata": {
    "pycharm": {
     "name": "#%%\n"
    }
   },
   "outputs": [],
   "source": []
  }
 ],
 "metadata": {
  "kernelspec": {
   "display_name": "stratenv",
   "language": "python",
   "name": "stratenv"
  },
  "language_info": {
   "codemirror_mode": {
    "name": "ipython",
    "version": 3
   },
   "file_extension": ".py",
   "mimetype": "text/x-python",
   "name": "python",
   "nbconvert_exporter": "python",
   "pygments_lexer": "ipython3",
   "version": "3.7.5"
  }
 },
 "nbformat": 4,
 "nbformat_minor": 4
}
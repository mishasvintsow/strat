{
 "cells": [
  {
   "cell_type": "code",
   "execution_count": 1,
   "metadata": {},
   "outputs": [],
   "source": [
    "import os, sys\n",
    "sys.path.insert(0, '/home/michael/projects/strat')\n",
    "import django\n",
    "os.environ.setdefault('DJANGO_SETTINGS_MODULE', 'strat.settings')\n",
    "os.environ[\"DJANGO_ALLOW_ASYNC_UNSAFE\"] = \"true\"\n",
    "django.setup()"
   ]
  },
  {
   "cell_type": "code",
   "execution_count": 2,
   "metadata": {},
   "outputs": [],
   "source": [
    "from main.models import Coin, Symbol, Candle\n",
    "import pandas as pd\n",
    "from django.utils import timezone\n",
    "from datetime import datetime, timedelta\n",
    "import const"
   ]
  },
  {
   "cell_type": "code",
   "execution_count": 3,
   "metadata": {},
   "outputs": [],
   "source": [
    "from connect import connect\n",
    "from load_data import get_symbols_info, get_coins_info, get_candles"
   ]
  },
  {
   "cell_type": "code",
   "execution_count": 8,
   "metadata": {},
   "outputs": [],
   "source": [
    "client = connect()"
   ]
  },
  {
   "cell_type": "code",
   "execution_count": 12,
   "metadata": {},
   "outputs": [],
   "source": [
    "lev_info = [c for c in client.futures_leverage_bracket() if 'USDT' in c['symbol']]\n",
    "levs = {}\n",
    "for L in lev_info:\n",
    "    levs[L['symbol'].replace(\"USDT\",'')] = max([b['initialLeverage'] for b in L['brackets']])"
   ]
  },
  {
   "cell_type": "code",
   "execution_count": 19,
   "metadata": {},
   "outputs": [],
   "source": [
    "for coin, lev in levs.items():\n",
    "    try:\n",
    "        symbol = Symbol.objects.get(base__coin=coin)\n",
    "    except django.core.exceptions.ObjectDoesNotExist:\n",
    "        continue\n",
    "    symbol.max_leverage = lev\n",
    "    symbol.save()"
   ]
  },
  {
   "cell_type": "code",
   "execution_count": 20,
   "metadata": {},
   "outputs": [
    {
     "data": {
      "text/plain": [
       "<QuerySet [(100,), (125,), (50,), (25,), (25,), (50,), (25,), (50,), (25,), (50,), (75,), (50,), (50,), (50,), (50,), (25,), (50,), (50,), (50,), (50,), '...(remaining elements truncated)...']>"
      ]
     },
     "execution_count": 20,
     "metadata": {},
     "output_type": "execute_result"
    }
   ],
   "source": [
    "Symbol.objects.all().values_list('max_leverage')"
   ]
  },
  {
   "cell_type": "code",
   "execution_count": null,
   "metadata": {},
   "outputs": [],
   "source": [
    "def update_leverages(client):\n",
    "    lev_info = [c for c in client.futures_leverage_bracket() if 'USDT' in c['symbol']]\n",
    "    levs = {}\n",
    "    for L in lev_info:\n",
    "        try:\n",
    "            symbol = Symbol.objects.get(base__coin=L['symbol'].replace(\"USDT\",''))\n",
    "        except django.core.exceptions.ObjectDoesNotExist:\n",
    "            continue\n",
    "        symbol.max_leverage = max([b['initialLeverage'] for b in L['brackets']])\n",
    "        symbol.save()"
   ]
  }
 ],
 "metadata": {
  "kernelspec": {
   "display_name": "stratenv",
   "language": "python",
   "name": "stratenv"
  },
  "language_info": {
   "codemirror_mode": {
    "name": "ipython",
    "version": 3
   },
   "file_extension": ".py",
   "mimetype": "text/x-python",
   "name": "python",
   "nbconvert_exporter": "python",
   "pygments_lexer": "ipython3",
   "version": "3.7.5"
  }
 },
 "nbformat": 4,
 "nbformat_minor": 4
}
